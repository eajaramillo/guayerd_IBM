{
 "cells": [
  {
   "cell_type": "markdown",
   "metadata": {},
   "source": [
    "## Flujos de Control"
   ]
  },
  {
   "cell_type": "markdown",
   "metadata": {},
   "source": [
    "1) Crear una variable que contenga un elemento del conjunto de números enteros y luego imprimir por pantalla si es mayor o menor a cero"
   ]
  },
  {
   "cell_type": "code",
   "execution_count": null,
   "metadata": {},
   "outputs": [
    {
     "name": "stdout",
     "output_type": "stream",
     "text": [
      "-5 es menor o igual a cero\n",
      "-4 es menor o igual a cero\n",
      "-3 es menor o igual a cero\n",
      "-2 es menor o igual a cero\n",
      "-1 es menor o igual a cero\n",
      "0 es menor o igual a cero\n",
      "1 es mayor a cero\n",
      "2 es mayor a cero\n",
      "3 es mayor a cero\n",
      "4 es mayor a cero\n"
     ]
    }
   ],
   "source": [
    "for numero_entero in range(-5, 5):\n",
    "    if numero_entero > 0:\n",
    "        print(f\"{numero_entero} es mayor a cero\")\n",
    "    else:\n",
    "        print(f\"{numero_entero} es menor o igual a cero\")"
   ]
  },
  {
   "cell_type": "markdown",
   "metadata": {},
   "source": [
    "2) Crear dos variables y un condicional que informe si son del mismo tipo de dato"
   ]
  },
  {
   "cell_type": "code",
   "execution_count": 30,
   "metadata": {},
   "outputs": [
    {
     "name": "stdout",
     "output_type": "stream",
     "text": [
      "la variable_1 <class 'int'> NO es del mismo tipo que la variable_2 <class 'float'>\n"
     ]
    }
   ],
   "source": [
    "variable_1 = 10\n",
    "variable_2 = 5.5\n",
    "if type(variable_1) == type(variable_2):\n",
    "    print(f\"la variable_1 {type(variable_1)} es del mismo tipo que la variable_2 {type(variable_2)}\")\n",
    "else:\n",
    "    print(f\"la variable_1 {type(variable_1)} NO es del mismo tipo que la variable_2 {type(variable_2)}\")"
   ]
  },
  {
   "cell_type": "markdown",
   "metadata": {},
   "source": [
    "3) Para los valores enteros del 1 al 20, imprimir por pantalla si es par o impar"
   ]
  },
  {
   "cell_type": "code",
   "execution_count": 31,
   "metadata": {},
   "outputs": [
    {
     "name": "stdout",
     "output_type": "stream",
     "text": [
      "El numero 1 es impar\n",
      "El numero 2 es par\n",
      "El numero 3 es impar\n",
      "El numero 4 es par\n",
      "El numero 5 es impar\n",
      "El numero 6 es par\n",
      "El numero 7 es impar\n",
      "El numero 8 es par\n",
      "El numero 9 es impar\n",
      "El numero 10 es par\n",
      "El numero 11 es impar\n",
      "El numero 12 es par\n",
      "El numero 13 es impar\n",
      "El numero 14 es par\n",
      "El numero 15 es impar\n",
      "El numero 16 es par\n",
      "El numero 17 es impar\n",
      "El numero 18 es par\n",
      "El numero 19 es impar\n",
      "El numero 20 es par\n"
     ]
    }
   ],
   "source": [
    "i = 1\n",
    "while (i <= 20):\n",
    "    if (i % 2 == 0):\n",
    "        print(f'El numero {i} es par')\n",
    "    else:\n",
    "        print(f'El numero {i} es impar')\n",
    "    i = i + 1"
   ]
  },
  {
   "cell_type": "markdown",
   "metadata": {},
   "source": [
    "4) En un ciclo for mostrar para los valores entre 0 y 5 el resultado de elevarlo a la potencia igual a 3"
   ]
  },
  {
   "cell_type": "code",
   "execution_count": 34,
   "metadata": {},
   "outputs": [
    {
     "name": "stdout",
     "output_type": "stream",
     "text": [
      "El resultado de 0 a la potencia 3 (0**3)es: 0\n",
      "El resultado de 1 a la potencia 3 (1**3)es: 1\n",
      "El resultado de 2 a la potencia 3 (2**3)es: 8\n",
      "El resultado de 3 a la potencia 3 (3**3)es: 27\n",
      "El resultado de 4 a la potencia 3 (4**3)es: 64\n"
     ]
    }
   ],
   "source": [
    "potencia = 3\n",
    "for i in range(0, 5):\n",
    "    resultado = i ** potencia\n",
    "    print(f'El resultado de {i} a la potencia {potencia} ({i}**{potencia})es: {resultado}')"
   ]
  },
  {
   "cell_type": "markdown",
   "metadata": {},
   "source": [
    "5) Crear una variable que contenga un número entero y realizar un ciclo for la misma cantidad de ciclos"
   ]
  },
  {
   "cell_type": "code",
   "execution_count": 38,
   "metadata": {},
   "outputs": [
    {
     "name": "stdout",
     "output_type": "stream",
     "text": [
      "0\n",
      "1\n",
      "2\n",
      "3\n",
      "4\n"
     ]
    }
   ],
   "source": [
    "control_for = 5\n",
    "for i in range(control_for):\n",
    "    print(i)\n",
    "    i += 1"
   ]
  },
  {
   "cell_type": "markdown",
   "metadata": {},
   "source": [
    "6) Utilizar un ciclo while para realizar el factorial de un número guardado en una variable, sólo si la variable contiene un número entero mayor a 0"
   ]
  },
  {
   "cell_type": "code",
   "execution_count": 46,
   "metadata": {},
   "outputs": [
    {
     "name": "stdout",
     "output_type": "stream",
     "text": [
      "El factorial de 6 es 720\n"
     ]
    }
   ],
   "source": [
    "# Calcular el factorial de un número entero si es mayor a cero\n",
    "numero = 6  # Puedes cambiar este valor por cualquier entero positivo\n",
    "\n",
    "if numero > 0:\n",
    "    factorial = 1\n",
    "    contador = numero\n",
    "    while contador > 1:\n",
    "        factorial *= contador\n",
    "        contador -= 1\n",
    "    print(f\"El factorial de {numero} es {factorial}\")\n",
    "else:\n",
    "    print(\"La variable no contiene un número entero mayor a 0\")"
   ]
  },
  {
   "cell_type": "markdown",
   "metadata": {},
   "source": [
    "7) Crear un ciclo for dentro de un ciclo while"
   ]
  },
  {
   "cell_type": "code",
   "execution_count": 48,
   "metadata": {},
   "outputs": [
    {
     "name": "stdout",
     "output_type": "stream",
     "text": [
      "Número: 1\n",
      "  Letra: a\n",
      "  Letra: b\n",
      "  Letra: c\n",
      "Número: 2\n",
      "  Letra: a\n",
      "  Letra: b\n",
      "  Letra: c\n",
      "Número: 3\n",
      "  Letra: a\n",
      "  Letra: b\n",
      "  Letra: c\n"
     ]
    }
   ],
   "source": [
    "# Ciclo while con ciclo for anidado\n",
    "numeros = [1, 2, 3]\n",
    "letras = ['a', 'b', 'c']\n",
    "\n",
    "indice = 0\n",
    "while indice < len(numeros):\n",
    "    print(f\"Número: {numeros[indice]}\")\n",
    "    for letra in letras:\n",
    "        print(f\"  Letra: {letra}\")\n",
    "    indice += 1"
   ]
  },
  {
   "cell_type": "markdown",
   "metadata": {},
   "source": [
    "8) Crear un ciclo while dentro de un ciclo for"
   ]
  },
  {
   "cell_type": "code",
   "execution_count": 49,
   "metadata": {},
   "outputs": [
    {
     "name": "stdout",
     "output_type": "stream",
     "text": [
      "Número: 1\n",
      "  Letra: a\n",
      "  Letra: b\n",
      "  Letra: c\n",
      "Número: 2\n",
      "  Letra: a\n",
      "  Letra: b\n",
      "  Letra: c\n",
      "Número: 3\n",
      "  Letra: a\n",
      "  Letra: b\n",
      "  Letra: c\n"
     ]
    }
   ],
   "source": [
    "# Ciclo for con números y ciclo while anidado de letras\n",
    "numeros = [1, 2, 3]\n",
    "letras = ['a', 'b', 'c']\n",
    "\n",
    "for numero in numeros:\n",
    "    print(f\"Número: {numero}\")\n",
    "    indice = 0\n",
    "    while indice < len(letras):\n",
    "        print(f\"  Letra: {letras[indice]}\")\n",
    "        indice += 1"
   ]
  },
  {
   "cell_type": "markdown",
   "metadata": {},
   "source": [
    "9) Imprimir los números primos existentes entre 0 y 30"
   ]
  },
  {
   "cell_type": "code",
   "execution_count": 51,
   "metadata": {},
   "outputs": [
    {
     "name": "stdout",
     "output_type": "stream",
     "text": [
      "2\n",
      "3\n",
      "5\n",
      "7\n",
      "11\n",
      "13\n",
      "17\n",
      "19\n",
      "23\n",
      "29\n"
     ]
    }
   ],
   "source": [
    "# Imprimir los números primos entre un rango definido por el usuario\n",
    "inicio = 0   # Cambia este valor para el inicio del rango\n",
    "fin = 30      # Cambia este valor para el fin del rango\n",
    "\n",
    "for num in range(inicio, fin + 1):\n",
    "    es_primo = True\n",
    "    if num < 2:\n",
    "        es_primo = False\n",
    "    else:\n",
    "        for divisor in range(2, int(num ** 0.5) + 1):\n",
    "            if num % divisor == 0:\n",
    "                es_primo = False\n",
    "                break\n",
    "    if es_primo:\n",
    "        print(num)"
   ]
  },
  {
   "cell_type": "markdown",
   "metadata": {},
   "source": [
    "10) ¿Se puede mejorar el proceso del punto 9? Utilizar las sentencias break y/ó continue para tal fin"
   ]
  },
  {
   "cell_type": "markdown",
   "metadata": {},
   "source": [
    "11) En los puntos 9 y 10, se diseño un código que encuentra números primos y además se lo optimizó. ¿Es posible saber en qué medida se optimizó?"
   ]
  },
  {
   "cell_type": "markdown",
   "metadata": {},
   "source": [
    "12) Si la cantidad de números que se evalúa es mayor a treinta, esa optimización crece?"
   ]
  },
  {
   "cell_type": "markdown",
   "metadata": {},
   "source": [
    "13) Aplicando continue, armar un ciclo while que solo imprima los valores divisibles por 12, dentro del rango de números de 100 a 300"
   ]
  },
  {
   "cell_type": "markdown",
   "metadata": {},
   "source": [
    "14) Utilizar la función **input()** que permite hacer ingresos por teclado, para encontrar números primos y dar la opción al usario de buscar el siguiente"
   ]
  },
  {
   "cell_type": "markdown",
   "metadata": {},
   "source": [
    "15) Crear un ciclo while que encuentre dentro del rango de 100 a 300 el primer número divisible por 3 y además múltiplo de 6"
   ]
  }
 ],
 "metadata": {
  "kernelspec": {
   "display_name": "Python 3",
   "language": "python",
   "name": "python3"
  },
  "language_info": {
   "codemirror_mode": {
    "name": "ipython",
    "version": 3
   },
   "file_extension": ".py",
   "mimetype": "text/x-python",
   "name": "python",
   "nbconvert_exporter": "python",
   "pygments_lexer": "ipython3",
   "version": "3.13.8"
  },
  "vscode": {
   "interpreter": {
    "hash": "de8281a228bb66c2c60efdc2ecffdbec8f9385262e02c22a6ff74a2158df972d"
   }
  }
 },
 "nbformat": 4,
 "nbformat_minor": 4
}
