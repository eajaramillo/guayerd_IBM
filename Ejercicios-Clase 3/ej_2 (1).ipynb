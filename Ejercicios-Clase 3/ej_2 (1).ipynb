{
 "cells": [
  {
   "cell_type": "markdown",
   "metadata": {},
   "source": [
    "## Estructuras de Datos"
   ]
  },
  {
   "cell_type": "markdown",
   "metadata": {},
   "source": [
    "1) Crear una lista que contenga nombres de ciudades del mundo que contenga más de 5 elementos e imprimir por pantalla"
   ]
  },
  {
   "cell_type": "code",
   "execution_count": 1,
   "metadata": {},
   "outputs": [
    {
     "name": "stdout",
     "output_type": "stream",
     "text": [
      "Ciudad:  Bogotá\n",
      "Ciudad:  Lima\n",
      "Ciudad:  Buenos Aies\n",
      "Ciudad:  Panamá\n",
      "Ciudad:  Motevideo\n",
      "Ciudad:  Caracas\n"
     ]
    }
   ],
   "source": [
    "lista_ciudades = [\"Bogotá\", \"Lima\", \"Buenos Aies\", \"Panamá\", \"Motevideo\", \"Caracas\"]\n",
    "for ciudad in lista_ciudades:\n",
    "    print(\"Ciudad: \", ciudad)"
   ]
  },
  {
   "cell_type": "markdown",
   "metadata": {},
   "source": [
    "2) Imprimir por pantalla el segundo elemento de la lista"
   ]
  },
  {
   "cell_type": "code",
   "execution_count": 2,
   "metadata": {},
   "outputs": [
    {
     "name": "stdout",
     "output_type": "stream",
     "text": [
      "El segundo elemento de la lista es:  Lima\n"
     ]
    }
   ],
   "source": [
    "print(\"El segundo elemento de la lista es: \", lista_ciudades[1])"
   ]
  },
  {
   "cell_type": "markdown",
   "metadata": {},
   "source": [
    "3) Imprimir por pantalla del segundo al cuarto elemento"
   ]
  },
  {
   "cell_type": "code",
   "execution_count": 3,
   "metadata": {},
   "outputs": [
    {
     "name": "stdout",
     "output_type": "stream",
     "text": [
      "Los elemento entre el 2 y 4 son:  ['Lima', 'Buenos Aies', 'Panamá']\n"
     ]
    }
   ],
   "source": [
    "print(\"Los elemento entre el 2 y 4 son: \", lista_ciudades[1:4])"
   ]
  },
  {
   "cell_type": "markdown",
   "metadata": {},
   "source": [
    "4) Visualizar el tipo de dato de la lista"
   ]
  },
  {
   "cell_type": "code",
   "execution_count": 4,
   "metadata": {},
   "outputs": [
    {
     "name": "stdout",
     "output_type": "stream",
     "text": [
      "El tipo de dato de la lista es:  <class 'list'>\n"
     ]
    }
   ],
   "source": [
    "print(\"El tipo de dato de la lista es: \", type(lista_ciudades))"
   ]
  },
  {
   "cell_type": "markdown",
   "metadata": {},
   "source": [
    "5) Visualizar todos los elementos de la lista a partir del tercero de manera genérica, es decir, sin explicitar la posición del último elemento"
   ]
  },
  {
   "cell_type": "code",
   "execution_count": 5,
   "metadata": {},
   "outputs": [
    {
     "name": "stdout",
     "output_type": "stream",
     "text": [
      "Ciudades a partir de la segunda posición:  Buenos Aies , Ciudad # 3\n",
      "Ciudades a partir de la segunda posición:  Panamá , Ciudad # 4\n",
      "Ciudades a partir de la segunda posición:  Motevideo , Ciudad # 5\n",
      "Ciudades a partir de la segunda posición:  Caracas , Ciudad # 6\n"
     ]
    }
   ],
   "source": [
    "contador = 3\n",
    "for ciudad in lista_ciudades[2:]:    \n",
    "    print(\"Ciudades a partir de la segunda posición: \", ciudad, \", Ciudad #\", contador)\n",
    "    contador += 1"
   ]
  },
  {
   "cell_type": "markdown",
   "metadata": {},
   "source": [
    "6) Visualizar los primeros 4 elementos de la lista"
   ]
  },
  {
   "cell_type": "code",
   "execution_count": 6,
   "metadata": {},
   "outputs": [
    {
     "name": "stdout",
     "output_type": "stream",
     "text": [
      "Pertenece a las primeras cuatro ciudades:  Bogotá , Ciudad # 1\n",
      "Pertenece a las primeras cuatro ciudades:  Lima , Ciudad # 2\n",
      "Pertenece a las primeras cuatro ciudades:  Buenos Aies , Ciudad # 3\n",
      "Pertenece a las primeras cuatro ciudades:  Panamá , Ciudad # 4\n"
     ]
    }
   ],
   "source": [
    "contador = 1\n",
    "for ciudad in lista_ciudades[:4]:    \n",
    "    print(\"Pertenece a las primeras cuatro ciudades: \", ciudad, \", Ciudad #\", contador)\n",
    "    contador += 1"
   ]
  },
  {
   "cell_type": "markdown",
   "metadata": {},
   "source": [
    "7) Agregar una ciudad más a la lista que ya exista y otra que no ¿Arroja algún tipo de error?"
   ]
  },
  {
   "cell_type": "code",
   "execution_count": 7,
   "metadata": {},
   "outputs": [
    {
     "name": "stdout",
     "output_type": "stream",
     "text": [
      "El elemento no se encuentra en la lista\n",
      "Ciudades actuales:  ['Bogotá', 'Lima', 'Panamá', 'Motevideo', 'Caracas', 'Buenos Aies']\n",
      "Nuevas ciudades:  ['Bogotá', 'Lima', 'Panamá', 'Motevideo', 'Caracas', 'Buenos Aies', 'Quito', 'Bogotá']\n"
     ]
    }
   ],
   "source": [
    "lista_ciudades_copia = lista_ciudades\n",
    "lista_ciudades_copia = list(set(lista_ciudades_copia))\n",
    "try:\n",
    "    lista_ciudades_copia.index(\"Quito\")\n",
    "    lista_ciudades_copia.remove(\"Quito\")\n",
    "except ValueError:\n",
    "    print(\"El elemento no se encuentra en la lista\")\n",
    "    \n",
    "print(\"Ciudades actuales: \", lista_ciudades_copia)\n",
    "lista_ciudades_copia.append(\"Quito\")\n",
    "lista_ciudades_copia.append(\"Bogotá\")\n",
    "print(\"Nuevas ciudades: \", lista_ciudades_copia)\n",
    "lista_ciudades = lista_ciudades_copia"
   ]
  },
  {
   "cell_type": "markdown",
   "metadata": {},
   "source": [
    "8) Agregar otra ciudad, pero en la cuarta posición"
   ]
  },
  {
   "cell_type": "code",
   "execution_count": 8,
   "metadata": {},
   "outputs": [
    {
     "name": "stdout",
     "output_type": "stream",
     "text": [
      "El elemento no se encuentra en la lista\n",
      "Ciudades actuales:  ['Bogotá', 'Lima', 'Panamá', 'Motevideo', 'Caracas', 'Buenos Aies', 'Quito', 'Bogotá']\n",
      "Nuevas ciudades:  ['Bogotá', 'Lima', 'Panamá', 'New_York', 'Motevideo', 'Caracas', 'Buenos Aies', 'Quito', 'Bogotá']\n"
     ]
    }
   ],
   "source": [
    "lista_ciudades_copia_insert = lista_ciudades\n",
    "\n",
    "try:\n",
    "    lista_ciudades_copia_insert.index(\"New_York\")\n",
    "    lista_ciudades_copia_insert.remove(\"New_York\")\n",
    "except ValueError:\n",
    "    print(\"El elemento no se encuentra en la lista\")\n",
    "    \n",
    "print(\"Ciudades actuales: \", lista_ciudades_copia_insert)\n",
    "lista_ciudades_copia_insert.insert(3,\"New_York\")\n",
    "print(\"Nuevas ciudades: \", lista_ciudades_copia_insert)"
   ]
  },
  {
   "cell_type": "markdown",
   "metadata": {},
   "source": [
    "9) Concatenar otra lista a la ya creada"
   ]
  },
  {
   "cell_type": "code",
   "execution_count": 9,
   "metadata": {},
   "outputs": [
    {
     "name": "stdout",
     "output_type": "stream",
     "text": [
      "Ciudades américa ['Bogotá', 'Lima', 'Panamá', 'New_York', 'Motevideo', 'Caracas', 'Buenos Aies', 'Quito', 'Bogotá']\n",
      "Ciudades Europa ['Madrid', 'Paris', 'Roma']\n",
      "Todas las ciudades ['Bogotá', 'Lima', 'Panamá', 'New_York', 'Motevideo', 'Caracas', 'Buenos Aies', 'Quito', 'Bogotá', 'Madrid', 'Paris', 'Roma']\n"
     ]
    }
   ],
   "source": [
    "lista_ciudades_europa = [\"Madrid\", \"Paris\", \"Roma\"]\n",
    "print(\"Ciudades américa\", lista_ciudades)\n",
    "print(\"Ciudades Europa\", lista_ciudades_europa)\n",
    "print(\"Todas las ciudades\", lista_ciudades + lista_ciudades_europa)"
   ]
  },
  {
   "cell_type": "markdown",
   "metadata": {},
   "source": [
    "10) Encontrar el índice de la ciudad que en el punto 7 agregamos duplicada. ¿Se nota alguna particularidad?"
   ]
  },
  {
   "cell_type": "code",
   "execution_count": 10,
   "metadata": {},
   "outputs": [
    {
     "name": "stdout",
     "output_type": "stream",
     "text": [
      "lista_ciudades:  ['Bogotá', 'Lima', 'Panamá', 'New_York', 'Motevideo', 'Caracas', 'Buenos Aies', 'Quito', 'Bogotá']\n",
      "indice_ciudad_duplicada:  0 , solo se retorna el índice de la primera coincidencia.\n"
     ]
    }
   ],
   "source": [
    "print(\"lista_ciudades: \", lista_ciudades)\n",
    "indice_ciudad_duplicada = lista_ciudades.index(\"Bogotá\")\n",
    "print(\"indice_ciudad_duplicada: \", indice_ciudad_duplicada, \", solo se retorna el índice de la primera coincidencia.\")"
   ]
  },
  {
   "cell_type": "markdown",
   "metadata": {},
   "source": [
    "11) ¿Qué pasa si se busca un elemento que no existe?"
   ]
  },
  {
   "cell_type": "code",
   "execution_count": 11,
   "metadata": {},
   "outputs": [
    {
     "name": "stdout",
     "output_type": "stream",
     "text": [
      "An unexpected error occurred: 'Tokyo' is not in list\n",
      "La ciudad no se encuentra en la lista, cuando se busca un indice que no existe genera un error\n"
     ]
    }
   ],
   "source": [
    "try:\n",
    "    lista_ciudades.index(\"Tokyo\")\n",
    "except Exception as e:\n",
    "    print(f\"An unexpected error occurred: {e}\")\n",
    "    print(\"La ciudad no se encuentra en la lista, cuando se busca un indice que no existe genera un error\")\n",
    "    \n",
    "    "
   ]
  },
  {
   "cell_type": "markdown",
   "metadata": {},
   "source": [
    "12) Eliminar un elemento de la lista"
   ]
  },
  {
   "cell_type": "code",
   "execution_count": 12,
   "metadata": {},
   "outputs": [
    {
     "name": "stdout",
     "output_type": "stream",
     "text": [
      "Lista ciudades antes de remover:  ['Bogotá', 'Lima', 'Panamá', 'New_York', 'Motevideo', 'Caracas', 'Buenos Aies', 'Quito', 'Bogotá']\n",
      "Lista ciudades después de remover:  ['Lima', 'Panamá', 'New_York', 'Motevideo', 'Caracas', 'Buenos Aies', 'Quito', 'Bogotá']\n"
     ]
    }
   ],
   "source": [
    "# Uso try para blindar el código de generar un error que rompa la ejecución normal. \n",
    "print(\"Lista ciudades antes de remover: \", lista_ciudades)\n",
    "try:\n",
    "    lista_ciudades.remove(\"Bogotá\")\n",
    "    print(\"Lista ciudades después de remover: \", lista_ciudades)\n",
    "except Exception as e:\n",
    "    print(f\"An unexpected error occurred: {e}\")\n",
    "    print(\"El elemento no se encuentra en la lista\")"
   ]
  },
  {
   "cell_type": "markdown",
   "metadata": {},
   "source": [
    "13) ¿Qué pasa si el elemento a eliminar no existe?"
   ]
  },
  {
   "cell_type": "code",
   "execution_count": 13,
   "metadata": {},
   "outputs": [
    {
     "name": "stdout",
     "output_type": "stream",
     "text": [
      "Si el elemento a eliminar no existe, se genera una excepción que indica: An unexpected error occurred: list.remove(x): x not in list\n"
     ]
    }
   ],
   "source": [
    "print(\"Si el elemento a eliminar no existe, se genera una excepción que indica: An unexpected error occurred: list.remove(x): x not in list\")"
   ]
  },
  {
   "cell_type": "markdown",
   "metadata": {},
   "source": [
    "14) Extraer el úlimo elemento de la lista, guardarlo en una variable e imprimirlo"
   ]
  },
  {
   "cell_type": "code",
   "execution_count": 14,
   "metadata": {},
   "outputs": [
    {
     "name": "stdout",
     "output_type": "stream",
     "text": [
      "Lista ciudades actuales en la lista:  ['Lima', 'Panamá', 'New_York', 'Motevideo', 'Caracas', 'Buenos Aies', 'Quito', 'Bogotá']\n",
      "la última ciudad de la lista es:  Bogotá\n"
     ]
    }
   ],
   "source": [
    "print(\"Lista ciudades actuales en la lista: \", lista_ciudades)\n",
    "ultima_cuidad_lista = lista_ciudades[-1]\n",
    "print(\"la última ciudad de la lista es: \", ultima_cuidad_lista)"
   ]
  },
  {
   "cell_type": "markdown",
   "metadata": {},
   "source": [
    "15) Mostrar la lista multiplicada por 4"
   ]
  },
  {
   "cell_type": "code",
   "execution_count": 15,
   "metadata": {},
   "outputs": [
    {
     "name": "stdout",
     "output_type": "stream",
     "text": [
      "Lista ciudades actuales en la lista:  ['Lima', 'Panamá', 'New_York', 'Motevideo', 'Caracas', 'Buenos Aies', 'Quito', 'Bogotá']\n",
      "Lista ciudades multiplicada:  ['LimaLimaLimaLima', 'PanamáPanamáPanamáPanamá', 'New_YorkNew_YorkNew_YorkNew_York', 'MotevideoMotevideoMotevideoMotevideo', 'CaracasCaracasCaracasCaracas', 'Buenos AiesBuenos AiesBuenos AiesBuenos Aies', 'QuitoQuitoQuitoQuito', 'BogotáBogotáBogotáBogotá']\n"
     ]
    }
   ],
   "source": [
    "print(\"Lista ciudades actuales en la lista: \", lista_ciudades)\n",
    "lista_multiplo = lista_ciudades\n",
    "numero_de_veces = 4\n",
    "\n",
    "lista_multiplicada = [s * numero_de_veces for s in lista_multiplo]\n",
    "print(\"Lista ciudades multiplicada: \", lista_multiplicada)"
   ]
  },
  {
   "cell_type": "markdown",
   "metadata": {},
   "source": [
    "16) Crear una tupla que contenga los números enteros del 1 al 20"
   ]
  },
  {
   "cell_type": "code",
   "execution_count": 16,
   "metadata": {},
   "outputs": [
    {
     "name": "stdout",
     "output_type": "stream",
     "text": [
      "La tupla creada es: (1, 2, 3, 4, 5, 6, 7, 8, 9, 10, 11, 12, 13, 14, 15, 16, 17, 18, 19, 20)\n"
     ]
    }
   ],
   "source": [
    "# Paso 1: Inicializar una tupla vacía\n",
    "mi_tupla = ()\n",
    "\n",
    "# Paso 2: Usar un ciclo para generar y concatenar elementos\n",
    "for i in range(20):\n",
    "    nuevo_elemento = i+1\n",
    "    # Crear una tupla de un solo elemento (con una coma al final)\n",
    "    mi_tupla += (nuevo_elemento,)\n",
    "\n",
    "print(\"La tupla creada es:\", mi_tupla)\n"
   ]
  },
  {
   "cell_type": "markdown",
   "metadata": {},
   "source": [
    "17) Imprimir desde el índice 10 al 15 de la tupla"
   ]
  },
  {
   "cell_type": "code",
   "execution_count": 17,
   "metadata": {},
   "outputs": [
    {
     "name": "stdout",
     "output_type": "stream",
     "text": [
      "Los elementos de la tupla entre el 10-15 son: (11, 12, 13, 14, 15)\n"
     ]
    }
   ],
   "source": [
    "print(\"Los elementos de la tupla entre el 10-15 son:\", mi_tupla[10:15])"
   ]
  },
  {
   "cell_type": "markdown",
   "metadata": {},
   "source": [
    "18) Evaluar si los números 20 y 30 están dentro de la tupla"
   ]
  },
  {
   "cell_type": "code",
   "execution_count": 18,
   "metadata": {},
   "outputs": [
    {
     "name": "stdout",
     "output_type": "stream",
     "text": [
      "El 20 existe en la tupla\n",
      "El 30 NO existe en la tupla\n"
     ]
    }
   ],
   "source": [
    "if 20 in mi_tupla:\n",
    "    print(\"El 20 existe en la tupla\")\n",
    "else:\n",
    "    print(\"El 20 NO existe en la tupla\")\n",
    "\n",
    "if 30 in mi_tupla:\n",
    "    print(\"El 30 existe en la tupla\")\n",
    "else:\n",
    "    print(\"El 30 NO existe en la tupla\")"
   ]
  },
  {
   "cell_type": "markdown",
   "metadata": {},
   "source": [
    "19) Con la lista creada en el punto 1, validar la existencia del elemento 'París' y si no existe, agregarlo. Utilizar una variable e informar lo sucedido."
   ]
  },
  {
   "cell_type": "code",
   "execution_count": 49,
   "metadata": {},
   "outputs": [
    {
     "name": "stdout",
     "output_type": "stream",
     "text": [
      "Lista ciudades antes:  ['Lima', 'Panamá', 'New_York', 'Motevideo', 'Caracas', 'Buenos Aies', 'Quito', 'París']\n",
      "El elemento 'París' fue agregado a la lista.\n",
      "Nueva lista ciudades:  ['Lima', 'Panamá', 'New_York', 'Motevideo', 'Caracas', 'Buenos Aies', 'Quito', 'París']\n"
     ]
    }
   ],
   "source": [
    "# Uso try para blindar el código de generar un error que rompa la ejecución normal. \n",
    "print(\"Lista ciudades antes: \", lista_ciudades)\n",
    "nueva_ciudad = \"París\"\n",
    "try:\n",
    "    lista_ciudades.remove(nueva_ciudad)\n",
    "    if nueva_ciudad not in lista_ciudades:\n",
    "        lista_ciudades.append(nueva_ciudad)\n",
    "        print(f\"El elemento '{nueva_ciudad}' fue agregado a la lista.\")\n",
    "except ValueError:\n",
    "    if nueva_ciudad not in lista_ciudades:\n",
    "        lista_ciudades.append(nueva_ciudad)\n",
    "        print(f\"El elemento '{nueva_ciudad}' fue agregado a la lista.\")\n",
    "    else:\n",
    "        print(f\"El elemento '{nueva_ciudad}' ya existe en la lista.\")\n",
    "\n",
    "print(\"Nueva lista ciudades: \", lista_ciudades)"
   ]
  },
  {
   "cell_type": "markdown",
   "metadata": {},
   "source": [
    "20) Mostrar la cantidad de veces que se encuentra un elemento específico dentro de la tupla y de la lista"
   ]
  },
  {
   "cell_type": "code",
   "execution_count": 51,
   "metadata": {},
   "outputs": [
    {
     "name": "stdout",
     "output_type": "stream",
     "text": [
      "La ciudad 'París' aparece 1 veces en la lista\n",
      "El valor '10' aparece 1 veces en la lista\n"
     ]
    }
   ],
   "source": [
    "ciudad_ocurrencia = \"París\"\n",
    "contar_lista = lista_ciudades.count(ciudad_ocurrencia)\n",
    "print(f\"La ciudad '{ciudad_ocurrencia}' aparece {contar_lista} veces en la lista\")\n",
    "\n",
    "valor_tupla = 10\n",
    "contar_tupla = mi_tupla.count(valor_tupla)\n",
    "print(f\"El valor '{valor_tupla}' aparece {contar_tupla} veces en la lista\")\n"
   ]
  },
  {
   "cell_type": "markdown",
   "metadata": {},
   "source": [
    "21) Convertir la tupla en una lista"
   ]
  },
  {
   "cell_type": "markdown",
   "metadata": {},
   "source": [
    "22) Desempaquetar solo los primeros 3 elementos de la tupla en 3 variables"
   ]
  },
  {
   "cell_type": "markdown",
   "metadata": {},
   "source": [
    "23) Crear un diccionario utilizando la lista crada en el punto 1, asignandole la clave \"ciudad\". Agregar tambien otras claves, como puede ser \"Pais\" y \"Continente\"."
   ]
  },
  {
   "cell_type": "markdown",
   "metadata": {},
   "source": [
    "24) Imprimir las claves del diccionario"
   ]
  },
  {
   "cell_type": "markdown",
   "metadata": {},
   "source": [
    "25) Imprimir las ciudades a través de su clave"
   ]
  },
  {
   "cell_type": "code",
   "execution_count": null,
   "metadata": {},
   "outputs": [],
   "source": [
    "import numpy as np"
   ]
  },
  {
   "cell_type": "code",
   "execution_count": null,
   "metadata": {},
   "outputs": [],
   "source": [
    "lista = [1,2,3,4, 5, 6, 7]"
   ]
  },
  {
   "cell_type": "code",
   "execution_count": 14,
   "metadata": {},
   "outputs": [
    {
     "name": "stdout",
     "output_type": "stream",
     "text": [
      "[1.  2.  3.  4.  5.3]\n"
     ]
    }
   ],
   "source": [
    "listanp = np.array(lista)\n",
    "print(listanp)"
   ]
  }
 ],
 "metadata": {
  "kernelspec": {
   "display_name": "Python 3",
   "language": "python",
   "name": "python3"
  },
  "language_info": {
   "codemirror_mode": {
    "name": "ipython",
    "version": 3
   },
   "file_extension": ".py",
   "mimetype": "text/x-python",
   "name": "python",
   "nbconvert_exporter": "python",
   "pygments_lexer": "ipython3",
   "version": "3.13.7"
  },
  "vscode": {
   "interpreter": {
    "hash": "de8281a228bb66c2c60efdc2ecffdbec8f9385262e02c22a6ff74a2158df972d"
   }
  }
 },
 "nbformat": 4,
 "nbformat_minor": 4
}
