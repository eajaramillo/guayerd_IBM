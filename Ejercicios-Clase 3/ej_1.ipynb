{
 "cells": [
  {
   "attachments": {},
   "cell_type": "markdown",
   "metadata": {},
   "source": [
    "## Variables"
   ]
  },
  {
   "attachments": {},
   "cell_type": "markdown",
   "metadata": {},
   "source": [
    "1) Crear una variable que contenga un elemento del conjunto de números enteros y luego imprimir por pantalla"
   ]
  },
  {
   "cell_type": "code",
   "execution_count": 1,
   "metadata": {},
   "outputs": [
    {
     "name": "stdout",
     "output_type": "stream",
     "text": [
      "La variable contiene el número:  13\n"
     ]
    }
   ],
   "source": [
    "contiene_numero = 13\n",
    "print(\"La variable contiene el número: \" , contiene_numero)"
   ]
  },
  {
   "attachments": {},
   "cell_type": "markdown",
   "metadata": {},
   "source": [
    "2) Imprimir el tipo de dato de la constante 8.5"
   ]
  },
  {
   "cell_type": "code",
   "execution_count": 2,
   "metadata": {},
   "outputs": [
    {
     "name": "stdout",
     "output_type": "stream",
     "text": [
      "La constante es del tipo:  <class 'float'>\n"
     ]
    }
   ],
   "source": [
    "constante = 8.5\n",
    "print(\"La constante es del tipo: \", type(constante))"
   ]
  },
  {
   "attachments": {},
   "cell_type": "markdown",
   "metadata": {},
   "source": [
    "3) Imprimir el tipo de dato de la variable creada en el punto 1"
   ]
  },
  {
   "cell_type": "code",
   "execution_count": 3,
   "metadata": {},
   "outputs": [
    {
     "name": "stdout",
     "output_type": "stream",
     "text": [
      "La variable definida en el punto #1 contiene:  <class 'int'>\n"
     ]
    }
   ],
   "source": [
    "print(\"La variable definida en el punto #1 contiene: \", type(contiene_numero))"
   ]
  },
  {
   "attachments": {},
   "cell_type": "markdown",
   "metadata": {},
   "source": [
    "4) Crear una variable que contenga tu nombre"
   ]
  },
  {
   "cell_type": "code",
   "execution_count": 4,
   "metadata": {},
   "outputs": [
    {
     "name": "stdout",
     "output_type": "stream",
     "text": [
      "Mi nombre es:  Edwar Jaramillo\n"
     ]
    }
   ],
   "source": [
    "nombre = \"Edwar Jaramillo\"\n",
    "print(\"Mi nombre es: \", nombre)"
   ]
  },
  {
   "attachments": {},
   "cell_type": "markdown",
   "metadata": {},
   "source": [
    "5) Crear una variable que contenga un número complejo"
   ]
  },
  {
   "cell_type": "code",
   "execution_count": 5,
   "metadata": {},
   "outputs": [
    {
     "name": "stdout",
     "output_type": "stream",
     "text": [
      "Imprimir número complejo:  (3+5j)\n"
     ]
    }
   ],
   "source": [
    "numero_complejo = 3 + 5j\n",
    "print(\"Imprimir número complejo: \", numero_complejo)"
   ]
  },
  {
   "attachments": {},
   "cell_type": "markdown",
   "metadata": {},
   "source": [
    "6) Mostrar el tipo de dato de la variable crada en el punto 5"
   ]
  },
  {
   "cell_type": "code",
   "execution_count": 6,
   "metadata": {},
   "outputs": [
    {
     "name": "stdout",
     "output_type": "stream",
     "text": [
      "Tipo de dato punto 5:  <class 'complex'>\n"
     ]
    }
   ],
   "source": [
    "print(\"Tipo de dato punto 5: \", type(numero_complejo))"
   ]
  },
  {
   "attachments": {},
   "cell_type": "markdown",
   "metadata": {},
   "source": [
    "7) Crear una variable que contenga el valor del número Pi redondeado a 4 decimales"
   ]
  },
  {
   "cell_type": "code",
   "execution_count": 7,
   "metadata": {},
   "outputs": [
    {
     "name": "stdout",
     "output_type": "stream",
     "text": [
      "Imprimir número PI redondeado a 4 decimales:  3.1416\n"
     ]
    }
   ],
   "source": [
    "import math\n",
    "numero_pi = math.pi\n",
    "print(\"Imprimir número PI redondeado a 4 decimales: \", round(numero_pi, 4))"
   ]
  },
  {
   "attachments": {},
   "cell_type": "markdown",
   "metadata": {},
   "source": [
    "8) Crear una variable que contenga el valor 'True' y otra que contenga el valor True. ¿Se trata de lo mismo?"
   ]
  },
  {
   "cell_type": "code",
   "execution_count": 8,
   "metadata": {},
   "outputs": [
    {
     "name": "stdout",
     "output_type": "stream",
     "text": [
      "Las variables son diferentes como se verá en el punto 9\n"
     ]
    }
   ],
   "source": [
    "variable_true_texto = 'True'\n",
    "variable_booleana_true = True\n",
    "print(\"Las variables son diferentes como se verá en el punto 9\")"
   ]
  },
  {
   "attachments": {},
   "cell_type": "markdown",
   "metadata": {},
   "source": [
    "9) Imprimir el tipo de dato correspondientes a las variables creadas en el punto 8"
   ]
  },
  {
   "cell_type": "code",
   "execution_count": 9,
   "metadata": {},
   "outputs": [
    {
     "name": "stdout",
     "output_type": "stream",
     "text": [
      "La variable variable_true_texto contiene:  <class 'str'>\n",
      "y la variable variable_booleana_true contiene:  <class 'bool'>\n"
     ]
    }
   ],
   "source": [
    "print(\"La variable variable_true_texto contiene: \", type(variable_true_texto))\n",
    "print(\"y la variable variable_booleana_true contiene: \", type(variable_booleana_true))"
   ]
  },
  {
   "attachments": {},
   "cell_type": "markdown",
   "metadata": {},
   "source": [
    "10) Asignar a una variable, la suma de un número entero y otro decimal"
   ]
  },
  {
   "cell_type": "code",
   "execution_count": 10,
   "metadata": {},
   "outputs": [
    {
     "name": "stdout",
     "output_type": "stream",
     "text": [
      "Suma de un número entero y decimal:  26.5\n"
     ]
    }
   ],
   "source": [
    "variable_suma_numeros = 13 + 13.5\n",
    "print(\"Suma de un número entero y decimal: \", variable_suma_numeros)"
   ]
  },
  {
   "attachments": {},
   "cell_type": "markdown",
   "metadata": {},
   "source": [
    "11) Realizar una operación de suma de números complejos"
   ]
  },
  {
   "cell_type": "code",
   "execution_count": 11,
   "metadata": {},
   "outputs": [
    {
     "name": "stdout",
     "output_type": "stream",
     "text": [
      "Suma de dos números complejos:  10j\n"
     ]
    }
   ],
   "source": [
    "variable_sumas_numeros_complejos = 5J + 5j\n",
    "print(\"Suma de dos números complejos: \", variable_sumas_numeros_complejos)"
   ]
  },
  {
   "attachments": {},
   "cell_type": "markdown",
   "metadata": {},
   "source": [
    "12) Realizar una operación de suma de un número real y otro complejo"
   ]
  },
  {
   "cell_type": "code",
   "execution_count": 12,
   "metadata": {},
   "outputs": [
    {
     "name": "stdout",
     "output_type": "stream",
     "text": [
      "(13.4+13j)\n"
     ]
    }
   ],
   "source": [
    "numero_real = 13.4\n",
    "numero_complejo = 13j\n",
    "suma_numero_real_complejo = numero_real + numero_complejo\n",
    "print(suma_numero_real_complejo)"
   ]
  },
  {
   "attachments": {},
   "cell_type": "markdown",
   "metadata": {},
   "source": [
    "13) Realizar una operación de multiplicación"
   ]
  },
  {
   "cell_type": "code",
   "execution_count": 13,
   "metadata": {},
   "outputs": [
    {
     "name": "stdout",
     "output_type": "stream",
     "text": [
      "El resultado de multiplicar dos números es:  6\n"
     ]
    }
   ],
   "source": [
    "resultado_multiplicacion = 2 * 3\n",
    "print(\"El resultado de multiplicar dos números es: \", resultado_multiplicacion)"
   ]
  },
  {
   "attachments": {},
   "cell_type": "markdown",
   "metadata": {},
   "source": [
    "14) Mostrar el resultado de elevar 2 a la octava potencia"
   ]
  },
  {
   "cell_type": "code",
   "execution_count": 14,
   "metadata": {},
   "outputs": [
    {
     "name": "stdout",
     "output_type": "stream",
     "text": [
      "2 elevado a la pontencia 8 es:  256\n"
     ]
    }
   ],
   "source": [
    "variable_potencia = 2 ** 8\n",
    "print(\"2 elevado a la pontencia 8 es: \", variable_potencia)"
   ]
  },
  {
   "attachments": {},
   "cell_type": "markdown",
   "metadata": {},
   "source": [
    "15) Obtener el cociente de la división de 27 entre 4 en una variable y luego mostrarla"
   ]
  },
  {
   "cell_type": "code",
   "execution_count": 15,
   "metadata": {},
   "outputs": [
    {
     "name": "stdout",
     "output_type": "stream",
     "text": [
      "El cociente de dividir 27 entre 4 es:  6 , Se utiliza el operador //\n"
     ]
    }
   ],
   "source": [
    "cociente_division = 27 // 4\n",
    "print(\"El cociente de dividir 27 entre 4 es: \", cociente_division, \", Se utiliza el operador //\")"
   ]
  },
  {
   "attachments": {},
   "cell_type": "markdown",
   "metadata": {},
   "source": [
    "16) De la división anterior solamente mostrar la parte entera"
   ]
  },
  {
   "cell_type": "code",
   "execution_count": 16,
   "metadata": {},
   "outputs": [
    {
     "name": "stdout",
     "output_type": "stream",
     "text": [
      "El cociente de dividir 27 entre 4 es:  6 , Se utiliza el operador //\n"
     ]
    }
   ],
   "source": [
    "print(\"El cociente de dividir 27 entre 4 es: \", cociente_division, \", Se utiliza el operador //\")"
   ]
  },
  {
   "attachments": {},
   "cell_type": "markdown",
   "metadata": {},
   "source": [
    "17) De la división de 27 entre 4 mostrar solamente el resto"
   ]
  },
  {
   "cell_type": "code",
   "execution_count": 17,
   "metadata": {},
   "outputs": [
    {
     "name": "stdout",
     "output_type": "stream",
     "text": [
      "El resto de dividir 27 entre 4 es:  3 , Se utiliza el operador %\n"
     ]
    }
   ],
   "source": [
    "resto_division = 27 % 4\n",
    "print(\"El resto de dividir 27 entre 4 es: \", resto_division, \", Se utiliza el operador %\")"
   ]
  },
  {
   "attachments": {},
   "cell_type": "markdown",
   "metadata": {},
   "source": [
    "18) Utilizando como operandos el número 4 y los resultados obtenidos en los puntos 16 y 17. Obtener 27 como resultado"
   ]
  },
  {
   "cell_type": "code",
   "execution_count": 18,
   "metadata": {},
   "outputs": [
    {
     "name": "stdout",
     "output_type": "stream",
     "text": [
      "El resultado es:  27\n"
     ]
    }
   ],
   "source": [
    "probar_division = (cociente_division * 4) + resto_division\n",
    "print(\"El resultado es: \", probar_division)"
   ]
  },
  {
   "attachments": {},
   "cell_type": "markdown",
   "metadata": {},
   "source": [
    "19) Utilizar el operador \"+\" en una operación donde intervengan solo variables alfanuméricas"
   ]
  },
  {
   "cell_type": "code",
   "execution_count": 19,
   "metadata": {},
   "outputs": [
    {
     "name": "stdout",
     "output_type": "stream",
     "text": [
      "Usar el operador + con texto, da como resultado:  Hola Mundo!\n"
     ]
    }
   ],
   "source": [
    "concatenar_texto = \"Hola \" + \"Mundo!\"\n",
    "print(\"Usar el operador + con texto, da como resultado: \", concatenar_texto)"
   ]
  },
  {
   "attachments": {},
   "cell_type": "markdown",
   "metadata": {},
   "source": [
    "20) Evaluar si \"2\" es igual a 2. ¿Por qué ocurre eso?"
   ]
  },
  {
   "cell_type": "code",
   "execution_count": 20,
   "metadata": {},
   "outputs": [
    {
     "name": "stdout",
     "output_type": "stream",
     "text": [
      "dos_texto NO es igual a dos_numero\n",
      "dos_texto es:  <class 'str'>\n",
      "dos_numero es:  <class 'int'>\n"
     ]
    }
   ],
   "source": [
    "dos_texto = \"2\"\n",
    "dos_numero = 2\n",
    "if dos_texto == dos_numero :\n",
    "    print(\"dos_texto SI es igual a dos_numero\")\n",
    "else :\n",
    "    print(\"dos_texto NO es igual a dos_numero\")\n",
    "    print(\"dos_texto es: \", type(dos_texto))\n",
    "    print(\"dos_numero es: \", type(dos_numero))"
   ]
  },
  {
   "attachments": {},
   "cell_type": "markdown",
   "metadata": {},
   "source": [
    "21) Utilizar las funciones de cambio de tipo de dato, para que la validación del punto 20 resulte verdadera"
   ]
  },
  {
   "cell_type": "code",
   "execution_count": 21,
   "metadata": {},
   "outputs": [
    {
     "name": "stdout",
     "output_type": "stream",
     "text": [
      "dos_texto SI es igual a dos_numero, dado que se cambió el tipo de dato como int(dos_texto)\n"
     ]
    }
   ],
   "source": [
    "if int(dos_texto) == dos_numero :\n",
    "    print(\"dos_texto SI es igual a dos_numero, dado que se cambió el tipo de dato como int(dos_texto)\")\n",
    "else :\n",
    "    print(\"dos_texto NO es igual a dos_numero\")\n",
    "    print(\"dos_texto es: \", type(dos_texto))\n",
    "    print(\"dos_numero es: \", type(dos_numero))"
   ]
  },
  {
   "attachments": {},
   "cell_type": "markdown",
   "metadata": {},
   "source": [
    "22) ¿Por qué arroja error el siguiente cambio de tipo de datos? a = float('3,8')"
   ]
  },
  {
   "cell_type": "code",
   "execution_count": 22,
   "metadata": {},
   "outputs": [
    {
     "name": "stdout",
     "output_type": "stream",
     "text": [
      "An unexpected error occurred: could not convert string to float: '3,8'\n",
      "El error ocurre porque los datos tipo float se separan con punto y no con coma\n"
     ]
    }
   ],
   "source": [
    "try :\n",
    "    a = float('3,8')\n",
    "except Exception as e:\n",
    "    print(f\"An unexpected error occurred: {e}\")\n",
    "    print(\"El error ocurre porque los datos tipo float se separan con punto y no con coma\")"
   ]
  },
  {
   "attachments": {},
   "cell_type": "markdown",
   "metadata": {},
   "source": [
    "23) Crear una variable con el valor 3, y utilizar el operador '-=' para modificar su contenido y que de como resultado 2."
   ]
  },
  {
   "cell_type": "code",
   "execution_count": 23,
   "metadata": {},
   "outputs": [
    {
     "name": "stdout",
     "output_type": "stream",
     "text": [
      "La variable variable_resta, contiene:  3\n",
      "Ahora la variabla variable_resta contiene:  2 , dado que por reasignación se le restó 1\n"
     ]
    }
   ],
   "source": [
    "variable_resta = 3\n",
    "print(\"La variable variable_resta, contiene: \", variable_resta)\n",
    "variable_resta -= 1\n",
    "print(\"Ahora la variabla variable_resta contiene: \", variable_resta, \", dado que por reasignación se le restó 1\")\n"
   ]
  },
  {
   "attachments": {},
   "cell_type": "markdown",
   "metadata": {},
   "source": [
    "24) Realizar la operacion 1 << 2 ¿Por qué da ese resultado? ¿Qué es el sistema de numeración binario?"
   ]
  },
  {
   "cell_type": "code",
   "execution_count": 24,
   "metadata": {},
   "outputs": [
    {
     "name": "stdout",
     "output_type": "stream",
     "text": [
      "1 << 2 = 4\n",
      "\n",
      "k | 1<<k (dec) | 1<<k (bin 8b) | Equivale a\n",
      "-------------------------------------------\n",
      "0 |          1 | 00000001      | 1 * 2**0  \n",
      "1 |          2 | 00000010      | 1 * 2**1  \n",
      "2 |          4 | 00000100      | 1 * 2**2  \n",
      "3 |          8 | 00001000      | 1 * 2**3  \n",
      "4 |         16 | 00010000      | 1 * 2**4  \n",
      "5 |         32 | 00100000      | 1 * 2**5  \n",
      "6 |         64 | 01000000      | 1 * 2**6  \n",
      "7 |        128 | 10000000      | 1 * 2**7\n",
      "\n",
      "\n",
      "1 << 2 significa “desplaza los bits de 1 dos posiciones a la izquierda”.\n",
      "\n",
      "En binario, 1 es 00000001.\n",
      "\n",
      "Al desplazar dos lugares a la izquierda, entra 00 por la derecha: 00000100.\n",
      "\n",
      "00000100 en decimal es 4.\n",
      "\n",
      "En Python (enteros de precisión arbitraria), esto es igual a multiplicar por 2**k: 1 << 2 == 1 * 2**2 == 4\n",
      "\n"
     ]
    }
   ],
   "source": [
    "print(\"1 << 2 = 4\") \n",
    "tabla = \"\"\"\n",
    "k | 1<<k (dec) | 1<<k (bin 8b) | Equivale a\n",
    "-------------------------------------------\n",
    "0 |          1 | 00000001      | 1 * 2**0  \n",
    "1 |          2 | 00000010      | 1 * 2**1  \n",
    "2 |          4 | 00000100      | 1 * 2**2  \n",
    "3 |          8 | 00001000      | 1 * 2**3  \n",
    "4 |         16 | 00010000      | 1 * 2**4  \n",
    "5 |         32 | 00100000      | 1 * 2**5  \n",
    "6 |         64 | 01000000      | 1 * 2**6  \n",
    "7 |        128 | 10000000      | 1 * 2**7\n",
    "\n",
    "\n",
    "1 << 2 significa “desplaza los bits de 1 dos posiciones a la izquierda”.\n",
    "\n",
    "En binario, 1 es 00000001.\n",
    "\n",
    "Al desplazar dos lugares a la izquierda, entra 00 por la derecha: 00000100.\n",
    "\n",
    "00000100 en decimal es 4.\n",
    "\n",
    "En Python (enteros de precisión arbitraria), esto es igual a multiplicar por 2**k: 1 << 2 == 1 * 2**2 == 4\n",
    "\"\"\"\n",
    "print(tabla)\n"
   ]
  },
  {
   "attachments": {},
   "cell_type": "markdown",
   "metadata": {},
   "source": [
    "25) Realizar la operación 2 + '2' ¿Por qué no está permitido? ¿Si los dos operandos serían del mismo tipo, siempre arrojaría el mismo resultado?"
   ]
  },
  {
   "cell_type": "code",
   "execution_count": null,
   "metadata": {},
   "outputs": [
    {
     "name": "stdout",
     "output_type": "stream",
     "text": [
      "An unexpected error occurred: unsupported operand type(s) for +: 'int' and 'str'\n",
      "Los perando no son del mismo timpo porque el primero 2 es de tipo int y el segundo '2' es del timpo string\n"
     ]
    }
   ],
   "source": [
    "try :\n",
    "    operacion_suma_no_permitida = 2 + '2'\n",
    "except Exception as e:\n",
    "    print(f\"An unexpected error occurred: {e}\")\n",
    "    print(\"Los operandos no son del mismo timpo porque el primero 2 es de tipo int y el segundo '2' es del timpo string\")"
   ]
  },
  {
   "attachments": {},
   "cell_type": "markdown",
   "metadata": {},
   "source": [
    "26) Realizar una operación válida entre valores de tipo entero y string"
   ]
  },
  {
   "cell_type": "code",
   "execution_count": 26,
   "metadata": {},
   "outputs": [
    {
     "name": "stdout",
     "output_type": "stream",
     "text": [
      "La operación operacion_suma_permitida = 2 + int('2') es permitida porque el srint se cambia al tipo int, por lo tanto el resultado es:  4\n"
     ]
    }
   ],
   "source": [
    "operacion_suma_permitida = 2 + int('2')\n",
    "print(\"La operación operacion_suma_permitida = 2 + int('2') es permitida porque el srint se cambia al tipo int, por lo tanto el resultado es: \", operacion_suma_permitida)"
   ]
  }
 ],
 "metadata": {
  "kernelspec": {
   "display_name": "Python 3",
   "language": "python",
   "name": "python3"
  },
  "language_info": {
   "codemirror_mode": {
    "name": "ipython",
    "version": 3
   },
   "file_extension": ".py",
   "mimetype": "text/x-python",
   "name": "python",
   "nbconvert_exporter": "python",
   "pygments_lexer": "ipython3",
   "version": "3.13.7"
  }
 },
 "nbformat": 4,
 "nbformat_minor": 4
}
