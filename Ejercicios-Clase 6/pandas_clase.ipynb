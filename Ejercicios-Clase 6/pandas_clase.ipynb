{
 "cells": [
  {
   "cell_type": "code",
   "execution_count": null,
   "id": "035577a4",
   "metadata": {},
   "outputs": [],
   "source": [
    "import pandas as pd"
   ]
  },
  {
   "cell_type": "markdown",
   "id": "a6bf037d",
   "metadata": {},
   "source": [
    "Series"
   ]
  },
  {
   "cell_type": "code",
   "execution_count": null,
   "id": "7d3a8aef",
   "metadata": {},
   "outputs": [],
   "source": [
    "disciplinas=pd.Series(['Matematicas','Historia','Ingles','Geografia'])"
   ]
  },
  {
   "cell_type": "code",
   "execution_count": null,
   "id": "62bbf7a2",
   "metadata": {},
   "outputs": [],
   "source": [
    "disciplinas"
   ]
  },
  {
   "cell_type": "code",
   "execution_count": null,
   "id": "dd50482e",
   "metadata": {},
   "outputs": [],
   "source": [
    "disciplinas[3]"
   ]
  },
  {
   "cell_type": "code",
   "execution_count": null,
   "id": "a73adca1",
   "metadata": {},
   "outputs": [],
   "source": [
    "disciplinas[:2]"
   ]
  },
  {
   "cell_type": "code",
   "execution_count": null,
   "id": "50f5ccdc",
   "metadata": {},
   "outputs": [],
   "source": [
    "numeros=pd.Series([1,3,8, 16, 20])"
   ]
  },
  {
   "cell_type": "code",
   "execution_count": null,
   "id": "5647dd72",
   "metadata": {},
   "outputs": [],
   "source": [
    "numeros"
   ]
  },
  {
   "cell_type": "code",
   "execution_count": null,
   "id": "86a3103b",
   "metadata": {},
   "outputs": [],
   "source": [
    "#numeros.dtype\n",
    "#numeros.size\n",
    "#numeros.shape\n",
    "#numeros.index"
   ]
  },
  {
   "cell_type": "code",
   "execution_count": null,
   "id": "df71a954",
   "metadata": {},
   "outputs": [],
   "source": [
    "len(numeros)"
   ]
  },
  {
   "cell_type": "code",
   "execution_count": null,
   "id": "98334541",
   "metadata": {},
   "outputs": [],
   "source": [
    "#usamos el constructor de python dict para crear un diccionario \n",
    "edades=dict(Juan=20,Maria=50,Pedro=30)"
   ]
  },
  {
   "cell_type": "code",
   "execution_count": null,
   "id": "3164189c",
   "metadata": {},
   "outputs": [],
   "source": [
    "edades"
   ]
  },
  {
   "cell_type": "code",
   "execution_count": null,
   "id": "3f192d1c",
   "metadata": {},
   "outputs": [],
   "source": [
    "serie_edades=pd.Series(edades)\n",
    "serie_edades"
   ]
  },
  {
   "cell_type": "code",
   "execution_count": null,
   "id": "875fb30d",
   "metadata": {},
   "outputs": [],
   "source": [
    "serie_edades[:2]"
   ]
  },
  {
   "cell_type": "code",
   "execution_count": null,
   "id": "c3be09ed",
   "metadata": {},
   "outputs": [],
   "source": [
    "serie_edades['Juan']"
   ]
  },
  {
   "cell_type": "code",
   "execution_count": null,
   "id": "7176ad19",
   "metadata": {},
   "outputs": [],
   "source": [
    "numeros=pd.Series([1,3,8, 16, 20])\n",
    "numeros.count()"
   ]
  },
  {
   "cell_type": "code",
   "execution_count": null,
   "id": "8f94e478",
   "metadata": {},
   "outputs": [],
   "source": [
    "numeros.size"
   ]
  },
  {
   "cell_type": "code",
   "execution_count": null,
   "id": "e007e271",
   "metadata": {},
   "outputs": [],
   "source": [
    "numeros.cumsum()"
   ]
  },
  {
   "cell_type": "code",
   "execution_count": null,
   "id": "5669d0b7",
   "metadata": {},
   "outputs": [],
   "source": [
    "numeros.sum()"
   ]
  },
  {
   "cell_type": "code",
   "execution_count": null,
   "id": "a8c79152",
   "metadata": {},
   "outputs": [],
   "source": [
    "numeros.min()"
   ]
  },
  {
   "cell_type": "code",
   "execution_count": null,
   "id": "e22f5704",
   "metadata": {},
   "outputs": [],
   "source": [
    "numeros.value_counts()"
   ]
  },
  {
   "cell_type": "code",
   "execution_count": null,
   "id": "de63febb",
   "metadata": {},
   "outputs": [],
   "source": [
    "numeros_1=pd.Series([1,1,1,4,5,6,8,8,8,8])"
   ]
  },
  {
   "cell_type": "code",
   "execution_count": null,
   "id": "945ff99b",
   "metadata": {},
   "outputs": [],
   "source": [
    "numeros_1.value_counts()"
   ]
  },
  {
   "cell_type": "code",
   "execution_count": null,
   "id": "60a52dfe",
   "metadata": {},
   "outputs": [],
   "source": [
    "numeros.describe()"
   ]
  },
  {
   "cell_type": "code",
   "execution_count": null,
   "id": "a08d3b67",
   "metadata": {},
   "outputs": [],
   "source": [
    "numeros*10"
   ]
  },
  {
   "cell_type": "code",
   "execution_count": null,
   "id": "f447bd75",
   "metadata": {},
   "outputs": [],
   "source": [
    "#numeros.sort_values()\n",
    "#numeros.sort_index()"
   ]
  },
  {
   "cell_type": "code",
   "execution_count": null,
   "id": "f8c7e593",
   "metadata": {},
   "outputs": [],
   "source": [
    "numeros[numeros>10]\n",
    "\n"
   ]
  },
  {
   "cell_type": "code",
   "execution_count": null,
   "id": "44106edd",
   "metadata": {},
   "outputs": [],
   "source": []
  },
  {
   "cell_type": "code",
   "execution_count": null,
   "id": "5b3d01f8",
   "metadata": {},
   "outputs": [],
   "source": [
    "#pedir ayuda en python\n",
    "help(pd.Series)"
   ]
  },
  {
   "cell_type": "markdown",
   "id": "57d653e0",
   "metadata": {},
   "source": [
    "Dataframes"
   ]
  },
  {
   "cell_type": "code",
   "execution_count": null,
   "id": "ef3266fa",
   "metadata": {},
   "outputs": [],
   "source": [
    "#creacion a partir de un diccionario\n",
    "notas=pd.DataFrame(dict(Juan=[6,8,9],Maria=[7,5,10],Pedro=[4,4,4]))   \n",
    "notas              \n",
    "  "
   ]
  },
  {
   "cell_type": "code",
   "execution_count": null,
   "id": "689c6469",
   "metadata": {},
   "outputs": [],
   "source": [
    "#importar un .csv\n",
    "\n",
    "df=pd.read_csv('C:/Users/Usuario/Downloads/colesterol.csv', sep=';',decimal=',')"
   ]
  },
  {
   "cell_type": "code",
   "execution_count": null,
   "id": "fbae8684",
   "metadata": {},
   "outputs": [],
   "source": [
    "df"
   ]
  },
  {
   "cell_type": "code",
   "execution_count": null,
   "id": "a0ea782c",
   "metadata": {},
   "outputs": [],
   "source": [
    "df.info()"
   ]
  },
  {
   "cell_type": "code",
   "execution_count": null,
   "id": "113ba784",
   "metadata": {},
   "outputs": [],
   "source": [
    "df.isnull()"
   ]
  },
  {
   "cell_type": "code",
   "execution_count": null,
   "id": "1bbb9a54",
   "metadata": {},
   "outputs": [],
   "source": [
    "df.size"
   ]
  },
  {
   "cell_type": "code",
   "execution_count": null,
   "id": "20153114",
   "metadata": {},
   "outputs": [],
   "source": [
    "df.columns"
   ]
  },
  {
   "cell_type": "code",
   "execution_count": null,
   "id": "5378ab44",
   "metadata": {},
   "outputs": [],
   "source": [
    "df.columns[2:5]"
   ]
  },
  {
   "cell_type": "code",
   "execution_count": null,
   "id": "e1db6077",
   "metadata": {},
   "outputs": [],
   "source": [
    "df.dtypes"
   ]
  },
  {
   "cell_type": "code",
   "execution_count": null,
   "id": "4ffc795a",
   "metadata": {},
   "outputs": [],
   "source": [
    "df.head()"
   ]
  },
  {
   "cell_type": "code",
   "execution_count": null,
   "id": "648eb701",
   "metadata": {},
   "outputs": [],
   "source": [
    "df.tail()"
   ]
  },
  {
   "cell_type": "code",
   "execution_count": null,
   "id": "a61703bb",
   "metadata": {},
   "outputs": [],
   "source": [
    "#como agregar columnas\n",
    "df['agregados']=[3,4,6,7,8]\n",
    "\n",
    "\n",
    "#df['agregados']=pd.Series([5, 8,14, 13,22])"
   ]
  },
  {
   "cell_type": "code",
   "execution_count": null,
   "id": "e95647fc",
   "metadata": {},
   "outputs": [],
   "source": [
    "df['agregados']=pd.Series([5, 8,14, 13,22])"
   ]
  },
  {
   "cell_type": "code",
   "execution_count": null,
   "id": "303a7d70",
   "metadata": {},
   "outputs": [],
   "source": [
    "df"
   ]
  },
  {
   "cell_type": "code",
   "execution_count": null,
   "id": "a0d01f71",
   "metadata": {},
   "outputs": [],
   "source": [
    "df['peso']>50"
   ]
  },
  {
   "cell_type": "code",
   "execution_count": null,
   "id": "03f6c005",
   "metadata": {},
   "outputs": [],
   "source": [
    "#eliminar columnas\n",
    "df.pop('agregados')"
   ]
  },
  {
   "cell_type": "code",
   "execution_count": null,
   "id": "95323db8",
   "metadata": {},
   "outputs": [],
   "source": [
    "df"
   ]
  },
  {
   "cell_type": "code",
   "execution_count": null,
   "id": "0b25d61b",
   "metadata": {},
   "outputs": [],
   "source": [
    "#del df['agregados'] es otra forma de eliminar columnas"
   ]
  },
  {
   "cell_type": "code",
   "execution_count": null,
   "id": "924f870d",
   "metadata": {},
   "outputs": [],
   "source": [
    "#elimina filas\n",
    "df.drop([2,3])"
   ]
  },
  {
   "cell_type": "code",
   "execution_count": null,
   "id": "f188e170",
   "metadata": {},
   "outputs": [],
   "source": [
    "df"
   ]
  },
  {
   "cell_type": "code",
   "execution_count": null,
   "id": "c3aff1eb",
   "metadata": {},
   "outputs": [],
   "source": [
    "df.drop([2,3],inplace=True)"
   ]
  },
  {
   "cell_type": "code",
   "execution_count": null,
   "id": "1ad5929d",
   "metadata": {},
   "outputs": [],
   "source": [
    "df"
   ]
  },
  {
   "cell_type": "code",
   "execution_count": null,
   "id": "27f8c6ba",
   "metadata": {},
   "outputs": [],
   "source": [
    "#eliminar nulos\n",
    "#df.dropna()\n",
    "#df.dropna(inplace=True)"
   ]
  },
  {
   "cell_type": "code",
   "execution_count": null,
   "id": "14b3a99f",
   "metadata": {},
   "outputs": [],
   "source": [
    "#usar filtros\n",
    "df[(df['sexo']=='H')& (df['colesterol']>240)]"
   ]
  },
  {
   "cell_type": "code",
   "execution_count": null,
   "id": "775da2fd",
   "metadata": {},
   "outputs": [],
   "source": [
    "#localizar un elemento\n",
    "\n",
    "df.loc[8]"
   ]
  },
  {
   "cell_type": "code",
   "execution_count": null,
   "id": "d1a9e79a",
   "metadata": {},
   "outputs": [],
   "source": [
    "df.iloc[8]"
   ]
  },
  {
   "cell_type": "code",
   "execution_count": null,
   "id": "45f89b53",
   "metadata": {},
   "outputs": [],
   "source": [
    "#llamar a una columna\n",
    "df['peso']"
   ]
  },
  {
   "cell_type": "code",
   "execution_count": null,
   "id": "74af6f32",
   "metadata": {},
   "outputs": [],
   "source": [
    "df.describe()"
   ]
  },
  {
   "cell_type": "code",
   "execution_count": null,
   "id": "cb125ecb",
   "metadata": {},
   "outputs": [],
   "source": [
    "#group by  me sirve para agrupar por una de las variables\n",
    "df.groupby(['sexo']).groups"
   ]
  },
  {
   "cell_type": "code",
   "execution_count": null,
   "id": "0f27956d",
   "metadata": {},
   "outputs": [],
   "source": [
    "pd.DataFrame(df.groupby('sexo')['altura'])"
   ]
  },
  {
   "cell_type": "code",
   "execution_count": null,
   "id": "45cf42e4",
   "metadata": {},
   "outputs": [],
   "source": [
    "#exportar un dataframe a csv\n",
    "df.to_csv('colesterol_nuevo.csv')"
   ]
  }
 ],
 "metadata": {
  "kernelspec": {
   "display_name": "Python 3",
   "language": "python",
   "name": "python3"
  },
  "language_info": {
   "codemirror_mode": {
    "name": "ipython",
    "version": 3
   },
   "file_extension": ".py",
   "mimetype": "text/x-python",
   "name": "python",
   "nbconvert_exporter": "python",
   "pygments_lexer": "ipython3",
   "version": "3.13.7"
  }
 },
 "nbformat": 4,
 "nbformat_minor": 5
}
